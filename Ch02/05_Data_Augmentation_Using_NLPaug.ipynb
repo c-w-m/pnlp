{
  "nbformat": 4,
  "nbformat_minor": 0,
  "metadata": {
    "accelerator": "GPU",
    "colab": {
      "name": "Data_Augmentation_Using_NLPaug.ipynb",
      "provenance": [],
      "collapsed_sections": [],
      "machine_shape": "hm",
      "include_colab_link": true
    },
    "kernelspec": {
      "display_name": "pnlp37",
      "language": "python",
      "name": "pnlp37"
    },
    "language_info": {
      "codemirror_mode": {
        "name": "ipython",
        "version": 3
      },
      "file_extension": ".py",
      "mimetype": "text/x-python",
      "name": "python",
      "nbconvert_exporter": "python",
      "pygments_lexer": "ipython3",
      "version": "3.7.10"
    }
  },
  "cells": [
    {
      "cell_type": "markdown",
      "metadata": {
        "id": "view-in-github",
        "colab_type": "text"
      },
      "source": [
        "<a href=\"https://colab.research.google.com/github/c-w-m/pnlp/blob/master/Ch02/05_Data_Augmentation_Using_NLPaug.ipynb\" target=\"_parent\"><img src=\"https://colab.research.google.com/assets/colab-badge.svg\" alt=\"Open In Colab\"/></a>"
      ]
    },
    {
      "cell_type": "markdown",
      "metadata": {
        "id": "yavI9mt4gayF"
      },
      "source": [
        "# Chapter 2.5: Data Augmentation Using __NLPaug__\n",
        "This notebook demostrate the usage of a character augmenter, word augmenter. There are other types such as augmentation for sentences, audio, spectrogram inputs etc. All of the types many before mentioned types and many more can be found at the [github repo](https://github.com/makcedward/nlpaug) and [docs](https://nlpaug.readthedocs.io/en/latest/) of nlpaug."
      ]
    },
    {
      "cell_type": "code",
      "metadata": {
        "ExecuteTime": {
          "end_time": "2021-04-03T11:15:03.818048Z",
          "start_time": "2021-04-03T11:15:01.468101Z"
        },
        "colab": {
          "base_uri": "https://localhost:8080/"
        },
        "id": "cF5zJdr-kAPY",
        "outputId": "b60433c1-18fc-4eef-9ec4-180567a8c426"
      },
      "source": [
        "#Installing the nlpaug package\n",
        "!pip install nlpaug==0.0.14"
      ],
      "execution_count": 7,
      "outputs": [
        {
          "output_type": "stream",
          "text": [
            "Requirement already satisfied: nlpaug==0.0.14 in /usr/local/lib/python3.7/dist-packages (0.0.14)\n"
          ],
          "name": "stdout"
        }
      ]
    },
    {
      "cell_type": "code",
      "metadata": {
        "ExecuteTime": {
          "end_time": "2021-04-03T11:15:11.595619Z",
          "start_time": "2021-04-03T11:15:11.593618Z"
        },
        "id": "8yhkOl3cgZ28"
      },
      "source": [
        "#this will be the base text which we will be using throughout this notebook\n",
        "text=\"The quick brown fox jumps over the lazy dog .\""
      ],
      "execution_count": 8,
      "outputs": []
    },
    {
      "cell_type": "code",
      "metadata": {
        "ExecuteTime": {
          "end_time": "2021-04-03T11:15:15.458928Z",
          "start_time": "2021-04-03T11:15:12.067195Z"
        },
        "colab": {
          "base_uri": "https://localhost:8080/"
        },
        "id": "ekFhzIWHUmoj",
        "outputId": "0259c3f9-5757-4f15-d90f-49e54f55daaf"
      },
      "source": [
        "import nlpaug.augmenter.char as nac\n",
        "import nlpaug.augmenter.word as naw\n",
        "import nlpaug.augmenter.sentence as nas\n",
        "import nlpaug.flow as nafc\n",
        "\n",
        "from nlpaug.util import Action\n",
        "import os\n",
        "!git clone https://github.com/makcedward/nlpaug.git\n",
        "os.environ[\"MODEL_DIR\"] = 'nlpaug/model/'"
      ],
      "execution_count": 9,
      "outputs": [
        {
          "output_type": "stream",
          "text": [
            "fatal: destination path 'nlpaug' already exists and is not an empty directory.\n"
          ],
          "name": "stdout"
        }
      ]
    },
    {
      "cell_type": "markdown",
      "metadata": {
        "id": "-Xo3CzNhh-zU"
      },
      "source": [
        "### Augmentation at the Character Level\n",
        "\n",
        "\n",
        "1.   OCR Augmenter: To read textual data from on image, we need an OCR(optical character recognition) model. Once the text is extracted from the image, there may be errors like; '0' instead of an 'o', '2' instead of 'z' and other such similar errors.  \n",
        "2.   Keyboard Augmenter: While typing/texting typos are fairly common this augmenter simulates the errors by substituting characters in words with ones at a similar distance on a keyboard.\n",
        "\n"
      ]
    },
    {
      "cell_type": "code",
      "metadata": {
        "ExecuteTime": {
          "end_time": "2021-04-03T11:15:15.474943Z",
          "start_time": "2021-04-03T11:15:15.459929Z"
        },
        "colab": {
          "base_uri": "https://localhost:8080/"
        },
        "id": "lfAaokTmjzak",
        "outputId": "d7fb5bf6-f695-47bc-f401-cdfa62fd9fbf"
      },
      "source": [
        "#OCR augmenter\n",
        "#import nlpaug.augmenter.char as nac\n",
        "\n",
        "aug = nac.OcrAug()  \n",
        "augmented_texts = aug.augment(text, n=3) #specifying n=3 gives us only 3 augmented versions of the sentence.\n",
        "\n",
        "print(\"Original:\")\n",
        "print(text)\n",
        "\n",
        "print(\"Augmented Texts:\")\n",
        "print(augmented_texts)"
      ],
      "execution_count": 10,
      "outputs": [
        {
          "output_type": "stream",
          "text": [
            "Original:\n",
            "The quick brown fox jumps over the lazy dog .\n",
            "Augmented Texts:\n",
            "['The quick brown fux jump8 over the lazy dog .', 'The quick brown fox jumps ovek the lazy dog .', 'The quick brown fux jomps over the lazy do9 .']\n"
          ],
          "name": "stdout"
        }
      ]
    },
    {
      "cell_type": "code",
      "metadata": {
        "ExecuteTime": {
          "end_time": "2021-04-03T11:15:16.903143Z",
          "start_time": "2021-04-03T11:15:16.880652Z"
        },
        "colab": {
          "base_uri": "https://localhost:8080/"
        },
        "id": "fKQCpS35j9Ie",
        "outputId": "8b41774f-cc04-4e0a-e337-a7ec28440b55"
      },
      "source": [
        "#Keyboard Augmenter\n",
        "#import nlpaug.augmenter.word as naw\n",
        "\n",
        "\n",
        "aug = nac.KeyboardAug()\n",
        "augmented_text = aug.augment(text, n=3) #specifying n=3 gives us only 3 augmented versions of the sentence.\n",
        "\n",
        "print(\"Original:\")\n",
        "print(text)\n",
        "\n",
        "print(\"Augmented Text:\")\n",
        "print(augmented_text)"
      ],
      "execution_count": 11,
      "outputs": [
        {
          "output_type": "stream",
          "text": [
            "Original:\n",
            "The quick brown fox jumps over the lazy dog .\n",
            "Augmented Text:\n",
            "['The qHick brown fox jumps over the lazy dog .', 'The quick brown fox jumpa over the lazG dog .', 'The quiSk brown fox Numps over the lazy dog .']\n"
          ],
          "name": "stdout"
        }
      ]
    },
    {
      "cell_type": "markdown",
      "metadata": {
        "id": "XbfPMwZWmper"
      },
      "source": [
        "There are other types of character augmenters too. Their details are avaiable in the links mentioned at the beginning of this notebook."
      ]
    },
    {
      "cell_type": "markdown",
      "metadata": {
        "id": "MufLJXsQm4i1"
      },
      "source": [
        "### Augmentation at the Word Level\n",
        "\n",
        "Augmentation is important at the word level as well , here we use word2vec to insert or substitute a similar word."
      ]
    },
    {
      "cell_type": "markdown",
      "metadata": {
        "id": "Tc_K1-niTGFP"
      },
      "source": [
        "**Spelling** **augmentor**\n"
      ]
    },
    {
      "cell_type": "code",
      "metadata": {
        "ExecuteTime": {
          "end_time": "2021-04-03T11:16:58.980739Z",
          "start_time": "2021-04-03T11:16:58.532879Z"
        },
        "colab": {
          "base_uri": "https://localhost:8080/"
        },
        "id": "2Qzmv4QCYrJe",
        "outputId": "565df27c-9972-4c9e-a1da-7940b52af3b2"
      },
      "source": [
        "#Downloading the required txt file\n",
        "!pip install wget\n",
        "import wget\n",
        "\n",
        "if not os.path.exists(\"spelling_en.txt\"):\n",
        "    wget.download(\"https://raw.githubusercontent.com/makcedward/nlpaug/5238e0be734841b69651d2043df535d78a8cc594/nlpaug/res/word/spelling/spelling_en.txt\")\n",
        "else:\n",
        "    print(\"File already exists\")"
      ],
      "execution_count": 12,
      "outputs": [
        {
          "output_type": "stream",
          "text": [
            "Collecting wget\n",
            "  Downloading https://files.pythonhosted.org/packages/47/6a/62e288da7bcda82b935ff0c6cfe542970f04e29c756b0e147251b2fb251f/wget-3.2.zip\n",
            "Building wheels for collected packages: wget\n",
            "  Building wheel for wget (setup.py) ... \u001b[?25l\u001b[?25hdone\n",
            "  Created wheel for wget: filename=wget-3.2-cp37-none-any.whl size=9681 sha256=f581e9bab2c6bb0f83a47c118ce420dea3843b412a15de35cad8ff7bb272eee9\n",
            "  Stored in directory: /root/.cache/pip/wheels/40/15/30/7d8f7cea2902b4db79e3fea550d7d7b85ecb27ef992b618f3f\n",
            "Successfully built wget\n",
            "Installing collected packages: wget\n",
            "Successfully installed wget-3.2\n"
          ],
          "name": "stdout"
        }
      ]
    },
    {
      "cell_type": "code",
      "metadata": {
        "ExecuteTime": {
          "end_time": "2021-04-03T11:17:00.723918Z",
          "start_time": "2021-04-03T11:17:00.619823Z"
        },
        "colab": {
          "base_uri": "https://localhost:8080/"
        },
        "id": "gOHrgDIill2F",
        "outputId": "f12d1b2a-4afe-49c0-ff03-cfce4ce7dbf0"
      },
      "source": [
        "#Substitute word by spelling mistake words dictionary\n",
        "aug = naw.SpellingAug('spelling_en.txt')\n",
        "augmented_texts = aug.augment(text)\n",
        "print(\"Original:\")\n",
        "print(text)\n",
        "print(\"Augmented Texts:\")\n",
        "print(augmented_texts)"
      ],
      "execution_count": 13,
      "outputs": [
        {
          "output_type": "stream",
          "text": [
            "Original:\n",
            "The quick brown fox jumps over the lazy dog .\n",
            "Augmented Texts:\n",
            "Yhe quikly abrown fox jumps over the lazy dog .\n"
          ],
          "name": "stdout"
        }
      ]
    },
    {
      "cell_type": "markdown",
      "metadata": {
        "id": "eaeQOtVqTQKG"
      },
      "source": [
        "**Word embeddings augmentor**"
      ]
    },
    {
      "cell_type": "code",
      "metadata": {
        "ExecuteTime": {
          "end_time": "2021-04-03T11:42:53.178843Z",
          "start_time": "2021-04-03T11:42:53.163829Z"
        },
        "id": "wDrq-v-B5mAX",
        "outputId": "e9381e1e-33fb-4322-8e08-ed1d4f106a6d",
        "colab": {
          "base_uri": "https://localhost:8080/"
        }
      },
      "source": [
        "import gzip\n",
        "import shutil\n",
        "\n",
        "gn_vec_path = \"GoogleNews-vectors-negative300.bin\"\n",
        "if not os.path.exists(\"GoogleNews-vectors-negative300.bin\"):\n",
        "    if not os.path.exists(\"../Ch3/GoogleNews-vectors-negative300.bin\"):\n",
        "        #Downloading the reqired model\n",
        "        if not os.path.exists(\"../Ch3/GoogleNews-vectors-negative300.bin.gz\"):\n",
        "            if not os.path.exists(\"GoogleNews-vectors-negative300.bin.gz\"):\n",
        "                wget.download(\"https://s3.amazonaws.com/dl4j-distribution/GoogleNews-vectors-negative300.bin.gz\")\n",
        "            gn_vec_zip_path = \"GoogleNews-vectors-negative300.bin.gz\"\n",
        "        else:\n",
        "            gn_vec_zip_path = \"../Ch3/GoogleNews-vectors-negative300.bin.gz\"\n",
        "        #Extracting the required model\n",
        "        with gzip.open(gn_vec_zip_path, 'rb') as f_in:\n",
        "            with open(gn_vec_path, 'wb') as f_out:\n",
        "                shutil.copyfileobj(f_in, f_out)\n",
        "    else:\n",
        "        gn_vec_path = \"../Ch3/\" + gn_vec_path\n",
        "\n",
        "print(f\"Model at {gn_vec_path}\")"
      ],
      "execution_count": 14,
      "outputs": [
        {
          "output_type": "stream",
          "text": [
            "Model at GoogleNews-vectors-negative300.bin\n"
          ],
          "name": "stdout"
        }
      ]
    },
    {
      "cell_type": "markdown",
      "metadata": {
        "id": "Jf_QHk-SgegN"
      },
      "source": [
        "Insert word randomly by word embeddings similarity"
      ]
    },
    {
      "cell_type": "code",
      "metadata": {
        "ExecuteTime": {
          "end_time": "2021-04-03T11:44:12.444755Z",
          "start_time": "2021-04-03T11:43:07.255745Z"
        },
        "colab": {
          "base_uri": "https://localhost:8080/"
        },
        "id": "ffUb6s-XTOsQ",
        "outputId": "9a0259fc-da4f-4de4-c008-17b4de20095b"
      },
      "source": [
        "# model_type: word2vec, glove or fasttext\n",
        "aug = naw.WordEmbsAug(\n",
        "    model_type='word2vec', model_path=gn_vec_path,\n",
        "    action=\"insert\")\n",
        "augmented_text = aug.augment(text)\n",
        "print(\"Original:\")\n",
        "print(text)\n",
        "print(\"Augmented Text:\")\n",
        "print(augmented_text)"
      ],
      "execution_count": 15,
      "outputs": [
        {
          "output_type": "stream",
          "text": [
            "Original:\n",
            "The quick brown fox jumps over the lazy dog .\n",
            "Augmented Text:\n",
            "Belford The quick brown fox balks jumps over Valentino the lazy dog .\n"
          ],
          "name": "stdout"
        }
      ]
    },
    {
      "cell_type": "markdown",
      "metadata": {
        "id": "kUB3Nd4Wghd0"
      },
      "source": [
        "Substitute word by word2vec similarity\n"
      ]
    },
    {
      "cell_type": "code",
      "metadata": {
        "ExecuteTime": {
          "end_time": "2021-04-03T11:44:12.948639Z",
          "start_time": "2021-04-03T11:44:12.446757Z"
        },
        "colab": {
          "base_uri": "https://localhost:8080/"
        },
        "id": "pSeZNfQRfy2l",
        "outputId": "fafd19d5-db59-4da8-f242-5d67ae0f3278"
      },
      "source": [
        "aug = naw.WordEmbsAug(\n",
        "    model_type='word2vec', model_path=gn_vec_path,\n",
        "    action=\"substitute\")\n",
        "augmented_text = aug.augment(text)\n",
        "print(\"Original:\")\n",
        "print(text)\n",
        "print(\"Augmented Text:\")\n",
        "print(augmented_text)"
      ],
      "execution_count": 16,
      "outputs": [
        {
          "output_type": "stream",
          "text": [
            "Original:\n",
            "The quick brown fox jumps over the lazy dog .\n",
            "Augmented Text:\n",
            "The quick brown fox jumped over before whiny dog .\n"
          ],
          "name": "stdout"
        }
      ]
    },
    {
      "cell_type": "markdown",
      "metadata": {
        "id": "reALNlOuDI9u"
      },
      "source": [
        "There are many more features which nlpaug offers you can visit the github repo and documentation for further details"
      ]
    }
  ]
}