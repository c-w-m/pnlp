{
 "cells": [
  {
   "cell_type": "markdown",
   "metadata": {},
   "source": [
    "# Text Classification\n",
    "\n",
    "## 🔖 Outline\n",
    "\n",
    "To be added\n",
    "\n",
    "\n",
    "## 🗒️ Notebooks\n",
    "\n",
    "Set of notebooks associated with the chapter. \n",
    "\n",
    "1. **[One Pipeline Many Classifiers](https://github.com/practical-nlp/practical-nlp/blob/master/Ch4/01_OnePipeline_ManyClassifiers.ipynb)**: Here we demonstrate text classification using various algorithms such as Naive Bayes, Logistic Regression, and Support Vector Machines.\n",
    "\n",
    "2. **[Doc2Vec for Text Classification](https://github.com/practical-nlp/practical-nlp/blob/master/Ch4/02_Doc2Vec_Example.ipynb)**: Here we demonstrate how to train your own Doc2Vec embedding and use it for text classification.\n",
    "\n",
    "3. **[Word2Vec for Text Classification](https://github.com/practical-nlp/practical-nlp/blob/master/Ch4/03_Word2Vec_Example.ipynb)**: Here we demonstrate how to use a pre-trained Word2Vec model for text classification.\n",
    "\n",
    "4. **[FastText for Text Classification](https://github.com/practical-nlp/practical-nlp/blob/master/Ch4/04_FastText_Example.ipynb)**: Here we demonstrate how to use the fasttext library for text classification.\n",
    "\n",
    "5. **[NNs for Text Classification](https://github.com/practical-nlp/practical-nlp/blob/master/Ch4/05_DeepNN_Example.ipynb)**: Here we demonstrate text classification using pre-trained and custom word embeddings with various Deep Learning Models. \n",
    "\n",
    "6. **[BERT: Text Classification](https://github.com/practical-nlp/practical-nlp/blob/master/Ch4/06_BERT_IMDB_Sentiment_Classification.ipynb)**: Here we demonstrate how we train and fine-tune pytorch pre-trained BERT on IMDB reviews to predict their sentiment using HuggingFace Transformers library.\n",
    "\n",
    "7. **[BERT: Text CLassification using Ktrain](https://github.com/practical-nlp/practical-nlp/blob/master/Ch4/07_BERT_Sentiment_Classification_IMDB_ktrain.ipynb)**: Here we demonstrate how we can use BERT to predict the sentiment of movie reviews using the ktrain library.\n",
    "\n",
    "8. **[LIME-1](https://github.com/practical-nlp/practical-nlp/blob/master/Ch4/08_LimeDemo.ipynb)**: Here we demonstrate how to interpret the predictions of a logistic regression model using LIME.\n",
    "\n",
    "9. **[LIME-2](https://github.com/practical-nlp/practical-nlp/blob/master/Ch4/09_Lime_RNN.ipynb)**: Here we demonstrate how to interpret predictions of an RNN model using LIME.\n",
    "\n",
    "10. **[SHAP](https://github.com/practical-nlp/practical-nlp/blob/master/Ch4/10_ShapDemo.ipynb)**: Here we demonstrate how to interpret ML and DL text classification models using SHAP.\n",
    "\n",
    "11. **[Spam Classification](https://github.com/practical-nlp/practical-nlp/blob/master/Ch4/11_SpamClassification.ipynb)**: Here we demonstrate how to classify a text message as SPAM or HAM using pre-trained models from the fastai library. \n",
    "\n",
    "\n",
    "## 🖼️ Figures\n",
    "\n",
    "Color figures as requested by the readers. \n",
    "\n",
    "![figure](https://github.com/practical-nlp/practical-nlp-figures/raw/master/figures/4-1.png)\n",
    "![figure](https://github.com/practical-nlp/practical-nlp-figures/raw/master/figures/4-2.png)\n",
    "![figure](https://github.com/practical-nlp/practical-nlp-figures/raw/master/figures/4-3.png)\n",
    "![figure](https://github.com/practical-nlp/practical-nlp-figures/raw/master/figures/4-4.png)\n",
    "![figure](https://github.com/practical-nlp/practical-nlp-figures/raw/master/figures/4-5.png)\n",
    "![figure](https://github.com/practical-nlp/practical-nlp-figures/raw/master/figures/4-6.png)\n",
    "![figure](https://github.com/practical-nlp/practical-nlp-figures/raw/master/figures/4-7.png)\n",
    "![figure](https://github.com/practical-nlp/practical-nlp-figures/raw/master/figures/4-8.png)\n",
    "![figure](https://github.com/practical-nlp/practical-nlp-figures/raw/master/figures/4-9.png)\n",
    "![figure](https://github.com/practical-nlp/practical-nlp-figures/raw/master/figures/4-10.png)\n",
    "![figure](https://github.com/practical-nlp/practical-nlp-figures/raw/master/figures/4-11.png)\n"
   ]
  }
 ],
 "metadata": {
  "kernelspec": {
   "display_name": "pnlp37",
   "language": "python",
   "name": "pnlp37"
  },
  "language_info": {
   "codemirror_mode": {
    "name": "ipython",
    "version": 3
   },
   "file_extension": ".py",
   "mimetype": "text/x-python",
   "name": "python",
   "nbconvert_exporter": "python",
   "pygments_lexer": "ipython3",
   "version": "3.7.10"
  }
 },
 "nbformat": 4,
 "nbformat_minor": 4
}
