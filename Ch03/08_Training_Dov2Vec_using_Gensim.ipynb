{
  "nbformat": 4,
  "nbformat_minor": 0,
  "metadata": {
    "colab": {
      "name": "Training_Dov2Vec_using_Gensim.ipynb",
      "provenance": [],
      "machine_shape": "hm",
      "include_colab_link": true
    },
    "kernelspec": {
      "display_name": "Python 3",
      "language": "python",
      "name": "python3"
    },
    "language_info": {
      "codemirror_mode": {
        "name": "ipython",
        "version": 3
      },
      "file_extension": ".py",
      "mimetype": "text/x-python",
      "name": "python",
      "nbconvert_exporter": "python",
      "pygments_lexer": "ipython3",
      "version": "3.7.10"
    }
  },
  "cells": [
    {
      "cell_type": "markdown",
      "metadata": {
        "id": "view-in-github",
        "colab_type": "text"
      },
      "source": [
        "<a href=\"https://colab.research.google.com/github/c-w-m/pnlp/blob/master/Ch03/08_Training_Dov2Vec_using_Gensim.ipynb\" target=\"_parent\"><img src=\"https://colab.research.google.com/assets/colab-badge.svg\" alt=\"Open In Colab\"/></a>"
      ]
    },
    {
      "cell_type": "markdown",
      "metadata": {
        "id": "NP_Xq8p7WubK"
      },
      "source": [
        "# Chapter 3.8: Training `Doc2Vec` Using __Gensim__\n",
        "In this notebook we demonstrate how to train a doc2vec model on a custom corpus."
      ]
    },
    {
      "cell_type": "code",
      "metadata": {
        "colab": {
          "base_uri": "https://localhost:8080/"
        },
        "id": "jifk_HHmvVWf",
        "outputId": "dddecbf5-ef2b-4821-e0fa-c5aac96b7d66"
      },
      "source": [
        "import warnings\n",
        "warnings.filterwarnings('ignore')\n",
        "from gensim.models.doc2vec import Doc2Vec, TaggedDocument\n",
        "from nltk.tokenize import word_tokenize\n",
        "from pprint import pprint\n",
        "import nltk\n",
        "nltk.download('punkt')"
      ],
      "execution_count": 1,
      "outputs": [
        {
          "output_type": "stream",
          "text": [
            "[nltk_data] Downloading package punkt to /root/nltk_data...\n",
            "[nltk_data]   Unzipping tokenizers/punkt.zip.\n"
          ],
          "name": "stdout"
        },
        {
          "output_type": "execute_result",
          "data": {
            "text/plain": [
              "True"
            ]
          },
          "metadata": {
            "tags": []
          },
          "execution_count": 1
        }
      ]
    },
    {
      "cell_type": "code",
      "metadata": {
        "id": "rLKY1nkIvluD"
      },
      "source": [
        "data = [\"dog bites man\",\n",
        "        \"man bites dog\",\n",
        "        \"dog eats meat\",\n",
        "        \"man eats food\"]\n",
        "\n",
        "tagged_data = [TaggedDocument(words=word_tokenize(word.lower()), tags=[str(i)]) for i, word in enumerate(data)]\n"
      ],
      "execution_count": 2,
      "outputs": []
    },
    {
      "cell_type": "code",
      "metadata": {
        "colab": {
          "base_uri": "https://localhost:8080/"
        },
        "id": "rPssbTNiwEd9",
        "outputId": "fa807e63-807d-4147-f637-9bbce8c57f0e"
      },
      "source": [
        "tagged_data"
      ],
      "execution_count": 3,
      "outputs": [
        {
          "output_type": "execute_result",
          "data": {
            "text/plain": [
              "[TaggedDocument(words=['dog', 'bites', 'man'], tags=['0']),\n",
              " TaggedDocument(words=['man', 'bites', 'dog'], tags=['1']),\n",
              " TaggedDocument(words=['dog', 'eats', 'meat'], tags=['2']),\n",
              " TaggedDocument(words=['man', 'eats', 'food'], tags=['3'])]"
            ]
          },
          "metadata": {
            "tags": []
          },
          "execution_count": 3
        }
      ]
    },
    {
      "cell_type": "code",
      "metadata": {
        "id": "dcxU67TCwSd8"
      },
      "source": [
        "#dbow\n",
        "model_dbow = Doc2Vec(tagged_data,vector_size=20, min_count=1, epochs=2,dm=0)\n"
      ],
      "execution_count": 4,
      "outputs": []
    },
    {
      "cell_type": "code",
      "metadata": {
        "colab": {
          "base_uri": "https://localhost:8080/"
        },
        "id": "QLkpnvcTx6T9",
        "outputId": "51e158e0-3f78-49af-b127-e04726387f74"
      },
      "source": [
        "print(model_dbow.infer_vector(['man','eats','food']))#feature vector of man eats food"
      ],
      "execution_count": 5,
      "outputs": [
        {
          "output_type": "stream",
          "text": [
            "[ 0.00833178 -0.01789699  0.02012537  0.00655591 -0.00948043 -0.01276905\n",
            "  0.02016209 -0.01082841 -0.00845614  0.02440228  0.0107796  -0.00898186\n",
            " -0.00386237  0.00644664  0.0102197  -0.01220094 -0.00701983  0.01758396\n",
            " -0.00515178 -0.02301671]\n"
          ],
          "name": "stdout"
        }
      ]
    },
    {
      "cell_type": "code",
      "metadata": {
        "colab": {
          "base_uri": "https://localhost:8080/"
        },
        "id": "1KzwAgUJzQLW",
        "outputId": "18064187-5c3f-4a81-8661-27ab007ea250"
      },
      "source": [
        "model_dbow.wv.most_similar(\"man\",topn=5)#top 5 most simlar words."
      ],
      "execution_count": 6,
      "outputs": [
        {
          "output_type": "execute_result",
          "data": {
            "text/plain": [
              "[('food', 0.521940290927887),\n",
              " ('bites', 0.322302907705307),\n",
              " ('dog', 0.2668944001197815),\n",
              " ('eats', 0.21319103240966797),\n",
              " ('meat', 0.009995978325605392)]"
            ]
          },
          "metadata": {
            "tags": []
          },
          "execution_count": 6
        }
      ]
    },
    {
      "cell_type": "code",
      "metadata": {
        "colab": {
          "base_uri": "https://localhost:8080/"
        },
        "id": "myGVWgudz9mW",
        "outputId": "23491804-d3f1-40ca-a460-3496dcd18ddf"
      },
      "source": [
        " model_dbow.wv.n_similarity([\"dog\"],[\"man\"])"
      ],
      "execution_count": 7,
      "outputs": [
        {
          "output_type": "execute_result",
          "data": {
            "text/plain": [
              "0.26689443"
            ]
          },
          "metadata": {
            "tags": []
          },
          "execution_count": 7
        }
      ]
    },
    {
      "cell_type": "code",
      "metadata": {
        "colab": {
          "base_uri": "https://localhost:8080/"
        },
        "id": "1i2Vv2uY4kqg",
        "outputId": "2a92623f-99fb-4641-d101-a36b3d1a1637"
      },
      "source": [
        "#dm\n",
        "model_dm = Doc2Vec(tagged_data, min_count=1, vector_size=20, epochs=2,dm=1)\n",
        "\n",
        "print(\"Inference Vector of man eats food\\n \",model_dm.infer_vector(['man','eats','food']))\n",
        "\n",
        "print(\"Most similar words to man in our corpus\\n\",model_dm.wv.most_similar(\"man\",topn=5))\n",
        "print(\"Similarity between man and dog: \",model_dm.wv.n_similarity([\"dog\"],[\"man\"]))"
      ],
      "execution_count": 8,
      "outputs": [
        {
          "output_type": "stream",
          "text": [
            "Inference Vector of man eats food\n",
            "  [ 0.00833187 -0.01789691  0.02012526  0.0065558  -0.00948052 -0.01276907\n",
            "  0.02016215 -0.01082829 -0.00845597  0.02440219  0.0107796  -0.00898175\n",
            " -0.00386238  0.00644674  0.01021964 -0.01220085 -0.00701991  0.01758401\n",
            " -0.00515177 -0.02301681]\n",
            "Most similar words to man in our corpus\n",
            " [('food', 0.521940290927887), ('bites', 0.322302907705307), ('dog', 0.2668944001197815), ('eats', 0.21319103240966797), ('meat', 0.009995978325605392)]\n",
            "Similarity between man and dog:  0.26689443\n"
          ],
          "name": "stdout"
        }
      ]
    },
    {
      "cell_type": "markdown",
      "metadata": {
        "id": "NmmM7yI31gMn"
      },
      "source": [
        "What happens when we compare between words which are not in the vocabulary?"
      ]
    },
    {
      "cell_type": "code",
      "metadata": {
        "colab": {
          "base_uri": "https://localhost:8080/"
        },
        "id": "YS-mciDx0ZiA",
        "outputId": "6116a9de-7f21-432c-f05a-eb2055a9081d"
      },
      "source": [
        "try:\n",
        "    model_dm.wv.n_similarity(['covid'],['man'])\n",
        "except KeyError as err:\n",
        "    print(\"model_dm.wv.n_similarity(['covid'],['man']): {}\".format(err))"
      ],
      "execution_count": 9,
      "outputs": [
        {
          "output_type": "stream",
          "text": [
            "model_dm.wv.n_similarity(['covid'],['man']): \"word 'covid' not in vocabulary\"\n"
          ],
          "name": "stdout"
        }
      ]
    },
    {
      "cell_type": "code",
      "metadata": {
        "id": "17qDsxIpGx5n"
      },
      "source": [
        ""
      ],
      "execution_count": 9,
      "outputs": []
    }
  ]
}