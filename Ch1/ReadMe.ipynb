{
 "cells": [
  {
   "cell_type": "markdown",
   "metadata": {},
   "source": [
    "# NLP: A Primer\n",
    "\n",
    "## 🔖 Outline\n",
    "\n",
    "Section outline as covered in the book. \n",
    "\n",
    "* NLP in the Real World\n",
    "  * NLP Tasks\n",
    "* What Is Language?\n",
    "  * How Does Language Make NLP Challenging?\n",
    "* Machine Learning, Deep Learning, and NLP: An Overview\n",
    "* Approaches to NLP\n",
    "  * Heuristics-Based NLP\n",
    "  * Machine Learning for NLP\n",
    "  * Deep Learning for NLP\n",
    "  * Why Deep Learning Is Not Yet the Silver Bullet for NLP\n",
    "* An NLP Walkthrough: Conversational Agents\n",
    "* Wrapping Up\n",
    "\n",
    "## 🖼️ Figures\n",
    "\n",
    "Color figures as requested by the readers. \n",
    "\n",
    "![figure](https://github.com/practical-nlp/practical-nlp-figures/raw/master/figures/1-1.png)\n",
    "![figure](https://github.com/practical-nlp/practical-nlp-figures/raw/master/figures/1-2.png)\n",
    "![figure](https://github.com/practical-nlp/practical-nlp-figures/raw/master/figures/1-3.png)\n",
    "![figure](https://github.com/practical-nlp/practical-nlp-figures/raw/master/figures/1-4.png)\n",
    "![figure](https://github.com/practical-nlp/practical-nlp-figures/raw/master/figures/1-5.png)\n",
    "![figure](https://github.com/practical-nlp/practical-nlp-figures/raw/master/figures/1-6.png)\n",
    "![figure](https://github.com/practical-nlp/practical-nlp-figures/raw/master/figures/1-7.png)\n",
    "![figure](https://github.com/practical-nlp/practical-nlp-figures/raw/master/figures/1-8.png)\n",
    "![figure](https://github.com/practical-nlp/practical-nlp-figures/raw/master/figures/1-9.png)\n",
    "![figure](https://github.com/practical-nlp/practical-nlp-figures/raw/master/figures/1-10.png)\n",
    "![figure](https://github.com/practical-nlp/practical-nlp-figures/raw/master/figures/1-11.png)\n",
    "![figure](https://github.com/practical-nlp/practical-nlp-figures/raw/master/figures/1-12.png)\n",
    "![figure](https://github.com/practical-nlp/practical-nlp-figures/raw/master/figures/1-13.png)\n",
    "![figure](https://github.com/practical-nlp/practical-nlp-figures/raw/master/figures/1-14.png)\n",
    "![figure](https://github.com/practical-nlp/practical-nlp-figures/raw/master/figures/1-15.png)\n",
    "![figure](https://github.com/practical-nlp/practical-nlp-figures/raw/master/figures/1-16.png)\n",
    "![figure](https://github.com/practical-nlp/practical-nlp-figures/raw/master/figures/1-17.png)\n",
    "![figure](https://github.com/practical-nlp/practical-nlp-figures/raw/master/figures/1-18.png)\n",
    "![figure](https://github.com/practical-nlp/practical-nlp-figures/raw/master/figures/1-19.png)\n"
   ]
  }
 ],
 "metadata": {
  "kernelspec": {
   "display_name": "pnlp37",
   "language": "python",
   "name": "pnlp37"
  },
  "language_info": {
   "codemirror_mode": {
    "name": "ipython",
    "version": 3
   },
   "file_extension": ".py",
   "mimetype": "text/x-python",
   "name": "python",
   "nbconvert_exporter": "python",
   "pygments_lexer": "ipython3",
   "version": "3.7.10"
  }
 },
 "nbformat": 4,
 "nbformat_minor": 4
}
